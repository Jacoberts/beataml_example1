{
 "cells": [
  {
   "cell_type": "markdown",
   "metadata": {},
   "source": [
    "# Train a baseline model for Subchallenge 1\n",
    "\n",
    "We'll train an elastic net on RNASeq data to predict \"General Response across Drugs\" (GRD). Specifically:\n",
    "\n",
    "- Select the 1000 highest variance genes (note that [1] used gene sets)\n",
    "- Average AUCs per-patient to get GRD\n",
    "- Train with 10-fold cross-validation\n",
    "- alphas & l1_ratios borrowed from [1]\n",
    "\n",
    "[1] Barretina, Jordi, Giordano Caponigro, Nicolas Stransky, Kavitha Venkatesan, Adam A. Margolin, Sungjoon Kim, Christopher J. Wilson, et al. “The Cancer Cell Line Encyclopedia Enables Predictive Modelling of Anticancer Drug Sensitivity.” Nature 483, no. 7391 (March 2012): 603–7. https://doi.org/10.1038/nature11003.\n"
   ]
  },
  {
   "cell_type": "markdown",
   "metadata": {},
   "source": [
    "### First, download training data.\n",
    "\n",
    "This only needs to be run once, to populate the `training/` directory."
   ]
  },
  {
   "cell_type": "code",
   "execution_count": null,
   "metadata": {},
   "outputs": [],
   "source": [
    "%pip install synapseclient\n",
    "\n",
    "import getpass\n",
    "import pandas\n",
    "import synapseclient\n",
    "import synapseutils\n",
    "\n",
    "# TODO: Change the synapse directory once the project launches.\n",
    "\n",
    "syn = synapseclient.Synapse()\n",
    "syn.login(input(prompt=\"Enter Synapse Username\"), getpass.getpass(\"Enter Synapse Password\"))\n",
    "downloaded_files = synapseutils.syncFromSynapse(syn, 'syn21212904', path='training') "
   ]
  },
  {
   "cell_type": "markdown",
   "metadata": {},
   "source": [
    "### Now, load the data, and train a model!"
   ]
  },
  {
   "cell_type": "code",
   "execution_count": null,
   "metadata": {},
   "outputs": [],
   "source": [
    "import pandas\n",
    "rnaseq = pandas.read_csv('training/rnaseq.csv')\n",
    "clinical = pandas.read_csv('training/clinical.csv')\n",
    "aucs = pandas.read_csv('training/aucs.csv')"
   ]
  },
  {
   "cell_type": "code",
   "execution_count": null,
   "metadata": {},
   "outputs": [],
   "source": [
    "from util import TransposeRnaSeqTable\n",
    "\n",
    "specimens = TransposeRnaSeqTable(rnaseq)\n",
    "selected_genes = specimens.var().nlargest(1000).index.tolist()"
   ]
  },
  {
   "cell_type": "code",
   "execution_count": null,
   "metadata": {},
   "outputs": [],
   "source": [
    "print(\"%.1f%% of (inhibitor, specimen) pairs have AUCs.\" % (\n",
    "    100 * aucs.shape[0] / float(len(aucs.inhibitor.unique()) * len(aucs.lab_id.unique()))))"
   ]
  },
  {
   "cell_type": "code",
   "execution_count": null,
   "metadata": {},
   "outputs": [],
   "source": [
    "grds = aucs.groupby('lab_id').auc.mean()"
   ]
  },
  {
   "cell_type": "code",
   "execution_count": null,
   "metadata": {},
   "outputs": [],
   "source": [
    "from matplotlib import pyplot\n",
    "import numpy\n",
    "import seaborn\n",
    "from sklearn.linear_model import RidgeCV\n",
    "\n",
    "# Normalize each specimen.\n",
    "X = specimens\n",
    "X = X.div(numpy.linalg.norm(X, axis=1), axis=0)\n",
    "X = X[selected_genes]\n",
    "\n",
    "# Compute z-score.\n",
    "gene_mean = X.mean(axis=0)\n",
    "gene_std = X.std(axis=0)\n",
    "X = (X - gene_mean) / gene_std\n",
    "\n",
    "# Do the fit.\n",
    "alphas = numpy.logspace(-1, 4, num=30)\n",
    "regr = RidgeCV(alphas=alphas, store_cv_values=True)\n",
    "regr = regr.fit(X, grds[X.index])\n",
    "\n",
    "# Plot.\n",
    "errors = numpy.sqrt(regr.cv_values_.mean(axis=0))\n",
    "seaborn.scatterplot(x=alphas, y=errors, label='ridge training error')\n",
    "pyplot.axhline(y=grds.std(), label='grds variance\\n(zero skill prediction)')\n",
    "\n",
    "# Annotate.\n",
    "pyplot.xlabel('alpha')\n",
    "pyplot.ylabel('Cross-Validation RMSE [GRD]')\n",
    "pyplot.title('Ridge Regression training error\\nOptimal alpha: %0.1f\\nMin error: %.3f' % (regr.alpha_, min(errors)))\n",
    "pyplot.legend()"
   ]
  },
  {
   "cell_type": "markdown",
   "metadata": {},
   "source": [
    "### Try pickling it."
   ]
  },
  {
   "cell_type": "code",
   "execution_count": null,
   "metadata": {},
   "outputs": [],
   "source": [
    "pkl_1_out = pandas.DataFrame({\n",
    "    'gene': selected_genes,\n",
    "    'gene_mean': gene_mean,\n",
    "    'gene_std': gene_std,\n",
    "    'fit': regr.coef_,\n",
    "})\n",
    "pkl_2_out = pandas.DataFrame({\n",
    "    'parameter': ['intercept'],\n",
    "    'value': [regr.intercept_],\n",
    "})\n",
    "pkl_1_out.to_csv('model/pkl_1.csv', index=False)\n",
    "pkl_2_out.to_csv('model/pkl_2.csv', index=False)"
   ]
  },
  {
   "cell_type": "markdown",
   "metadata": {},
   "source": [
    "### Look at predictions vs goldstandard for training data\n",
    "\n",
    "Assumes predictions are in `output/aucs.csv`."
   ]
  },
  {
   "cell_type": "code",
   "execution_count": null,
   "metadata": {},
   "outputs": [],
   "source": [
    "indices = ['lab_id', 'inhibitor']\n",
    "groundtruth = pandas.read_csv('training/aucs.csv').set_index(indices)\n",
    "predictions = pandas.read_csv('output/aucs.csv').set_index(indices)\n",
    "predictions_and_groundtruth = groundtruth.join(\n",
    "    predictions, lsuffix='_groundtruth', rsuffix='_prediction')"
   ]
  },
  {
   "cell_type": "code",
   "execution_count": null,
   "metadata": {},
   "outputs": [],
   "source": [
    "seaborn.scatterplot(\n",
    "    x='auc_groundtruth',\n",
    "    y='auc_prediction',\n",
    "    data=predictions_and_groundtruth,\n",
    "    alpha=0.05)\n",
    "pyplot.title('SC1 baseline predictor')"
   ]
  }
 ],
 "metadata": {
  "kernelspec": {
   "display_name": "Python 3",
   "language": "python",
   "name": "python3"
  },
  "language_info": {
   "codemirror_mode": {
    "name": "ipython",
    "version": 3
   },
   "file_extension": ".py",
   "mimetype": "text/x-python",
   "name": "python",
   "nbconvert_exporter": "python",
   "pygments_lexer": "ipython3",
   "version": "3.7.3"
  }
 },
 "nbformat": 4,
 "nbformat_minor": 2
}
